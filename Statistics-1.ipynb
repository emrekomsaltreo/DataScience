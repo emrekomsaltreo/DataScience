{
 "cells": [
  {
   "cell_type": "code",
   "execution_count": 1,
   "metadata": {},
   "outputs": [],
   "source": [
    "import matplotlib.pyplot as plt\n",
    "import numpy as np\n",
    "import scipy.stats as stats"
   ]
  },
  {
   "cell_type": "code",
   "execution_count": 2,
   "metadata": {},
   "outputs": [],
   "source": [
    "average_group1 = 40\n",
    "average_group2 = 45\n",
    "\n",
    "standard_deviation = 5.6\n",
    "\n",
    "samples_group1 = 40\n",
    "samples_group2 = 35"
   ]
  },
  {
   "cell_type": "code",
   "execution_count": 3,
   "metadata": {},
   "outputs": [],
   "source": [
    "data_group1 = np.random.randn(samples_group1) * standard_deviation + average_group1\n",
    "data_group2 = np.random.randn(samples_group2) * standard_deviation + average_group2\n",
    "\n",
    "ns = [samples_group1, samples_group2]\n",
    "\n",
    "datalims = [np.min(np.hstack([data_group1, data_group2])), np.max(np.hstack([data_group1, data_group2]))]"
   ]
  },
  {
   "cell_type": "code",
   "execution_count": null,
   "metadata": {},
   "outputs": [],
   "source": [
    "fig, ax = plt.subplots(1,2, figsize=(10,5))\n",
    "\n",
    "ax[0].violinplot(data_group1)\n",
    "ax[0].set_title('Group 1')\n",
    "ax[0].plot(1+np.random.randn(samples_group1)*0.1, data_group1, 'ko')\n",
    "ax[0].set_ylim(datalims)\n",
    "ax[0].axis('off')\n",
    "\n",
    "ax[1].violinplot(data_group2)\n",
    "ax[1].set_title('Group 2')\n",
    "ax[1].plot(1+np.random.randn(samples_group2)*0.1, data_group2, 'ko')\n",
    "ax[1].set_ylim(datalims)    \n",
    "ax[1].axis('off')\n"
   ]
  }
 ],
 "metadata": {
  "kernelspec": {
   "display_name": "gen380",
   "language": "python",
   "name": "python3"
  },
  "language_info": {
   "codemirror_mode": {
    "name": "ipython",
    "version": 3
   },
   "file_extension": ".py",
   "mimetype": "text/x-python",
   "name": "python",
   "nbconvert_exporter": "python",
   "pygments_lexer": "ipython3",
   "version": "3.8.18"
  }
 },
 "nbformat": 4,
 "nbformat_minor": 2
}
