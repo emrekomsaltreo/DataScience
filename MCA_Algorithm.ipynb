{
 "cells": [
  {
   "cell_type": "markdown",
   "metadata": {},
   "source": [
    "# MCA Algorithm Implemantaion"
   ]
  },
  {
   "cell_type": "code",
   "execution_count": 16,
   "metadata": {},
   "outputs": [],
   "source": [
    "import numpy as np  # linear algebra"
   ]
  },
  {
   "cell_type": "code",
   "execution_count": 17,
   "metadata": {},
   "outputs": [
    {
     "name": "stdout",
     "output_type": "stream",
     "text": [
      "[[0.09315298 0.5775177  0.23752834]\n",
      " [0.49732565 0.23946155 0.87793212]\n",
      " [0.35654195 0.38788844 0.00396908]]\n"
     ]
    }
   ],
   "source": [
    "a = np.random.rand(3, 3)\n",
    "\n",
    "print(a)"
   ]
  },
  {
   "cell_type": "code",
   "execution_count": 18,
   "metadata": {},
   "outputs": [],
   "source": [
    "def minors_matrix_det(matrix, m, i, j):\n",
    "    return np.linalg.det(np.delete(np.delete(matrix, i, axis=0), j, axis=1))"
   ]
  },
  {
   "cell_type": "code",
   "execution_count": 19,
   "metadata": {},
   "outputs": [
    {
     "name": "stdout",
     "output_type": "stream",
     "text": [
      "[[-1.95681572  0.51769828  2.59385632]\n",
      " [ 1.79233902 -0.48587196  0.20944202]\n",
      " [ 0.61961323  0.97830231 -1.52647859]]\n",
      "[[-1.95681572  0.51769828  2.59385632]\n",
      " [ 1.79233902 -0.48587196  0.20944202]\n",
      " [ 0.61961323  0.97830231 -1.52647859]]\n"
     ]
    }
   ],
   "source": [
    "a_inverse_test = np.linalg.inv(a)\n",
    "\n",
    "a_minors = np.zeros((3, 3))\n",
    "h = np.zeros((3, 3))\n",
    "\n",
    "\n",
    "for i in range(3):\n",
    "    for j in range(3):\n",
    "        h[i, j] = pow(-1, (i + j))\n",
    "        a_minors[i, j] = minors_matrix_det(a, 3, i, j)\n",
    "\n",
    "a_cofactor = a_minors * h\n",
    "\n",
    "a_determinant = np.linalg.det(a)\n",
    "\n",
    "a_adjoint = a_cofactor.T\n",
    "\n",
    "a_inverse = a_adjoint / a_determinant\n",
    "\n",
    "print(a_inverse)\n",
    "print(a_inverse_test)\n"
   ]
  }
 ],
 "metadata": {
  "kernelspec": {
   "display_name": "gen380",
   "language": "python",
   "name": "python3"
  },
  "language_info": {
   "codemirror_mode": {
    "name": "ipython",
    "version": 3
   },
   "file_extension": ".py",
   "mimetype": "text/x-python",
   "name": "python",
   "nbconvert_exporter": "python",
   "pygments_lexer": "ipython3",
   "version": "3.8.18"
  }
 },
 "nbformat": 4,
 "nbformat_minor": 2
}
